{
  "nbformat": 4,
  "nbformat_minor": 0,
  "metadata": {
    "colab": {
      "provenance": []
    },
    "kernelspec": {
      "name": "python3",
      "display_name": "Python 3"
    },
    "language_info": {
      "name": "python"
    }
  },
  "cells": [
    {
      "cell_type": "code",
      "source": [
        "#원형 큐?\n",
        "from collections import deque\n",
        "\n",
        "N,M = map(int,input().split())# N:큐의크기, M:뽑아내려고 하는 수의 개수\n",
        "numbers = list(map(int,input().split()))#뽑아내려하는 숫자\n",
        "\n",
        "queue = deque(range(1,N+1))#큐\n",
        "total = 0 #필요한 2, 3번 연산의 횟수 중 최솟값 저장\n",
        "\n",
        "for target in numbers:\n",
        "    idx = queue.index(target)# 뽑아내려하는 숫자의 큐에서의 위치\n",
        "\n",
        "    left = idx #왼쪽으로 움직였을 때 횟수(2번)\n",
        "    right = len(queue)- idx #오른쪽으로 움직였을 때 횟수 (3번)\n",
        "    total += min(left, right)# 2,3번연산 중 최솟값\n",
        "\n",
        "    queue.rotate(-left)#왼쪽으로 이동\n",
        "                      #target으로 향하는 연산 횟수는 이미 계산 되었으므로 어떤 방향으로 회전하든 상관 없음\n",
        "    queue.popleft()#target 제거\n",
        "\n",
        "print(total)\n",
        "\n"
      ],
      "metadata": {
        "colab": {
          "base_uri": "https://localhost:8080/"
        },
        "id": "gxfRLhsRgPoF",
        "outputId": "d27c95b5-069f-4d9a-8847-8d6d748d2cc8"
      },
      "execution_count": 8,
      "outputs": [
        {
          "output_type": "stream",
          "name": "stdout",
          "text": [
            "10 3\n",
            "2 9 5\n",
            "8\n"
          ]
        }
      ]
    },
    {
      "cell_type": "code",
      "source": [
        "from collections import deque\n",
        "\n",
        "N = int(input())# 카드의 개수\n",
        "Deck = deque(range(1,N+1))#카드\n",
        "\n",
        "while len(Deck) != 1:\n",
        "    Deck.popleft()#덱 맨위에서 카드 제거\n",
        "    tmp = Deck.popleft()# 임시 변수에 두번째 맨 윗카드 담기\n",
        "    Deck.append(tmp)# 덱 맨 아래에 추가\n",
        "\n",
        "print(*Deck)#*없이 출력시 deque([4])이런식으로 출력됨"
      ],
      "metadata": {
        "colab": {
          "base_uri": "https://localhost:8080/"
        },
        "id": "YotCA7abhKLa",
        "outputId": "63ca7aa3-7f17-4d45-c0dd-a24ec5a0ddff"
      },
      "execution_count": 42,
      "outputs": [
        {
          "output_type": "stream",
          "name": "stdout",
          "text": [
            "10\n",
            "4\n"
          ]
        }
      ]
    },
    {
      "cell_type": "code",
      "execution_count": null,
      "metadata": {
        "id": "8IJf6NZ4NYIe",
        "colab": {
          "base_uri": "https://localhost:8080/",
          "height": 90
        },
        "outputId": "5d6f219b-7d36-4c09-afe8-2cedb3a15a68"
      },
      "outputs": [
        {
          "output_type": "stream",
          "name": "stdout",
          "text": [
            "7 3\n",
            "<3, 6, 2, 7, 5, 1, 4>\n"
          ]
        },
        {
          "output_type": "execute_result",
          "data": {
            "text/plain": [
              "'정답리스트에 append를 해주기 위해 num을 통해 people의 인덱스에 접근했는데 이 때  out of range 에러가 나는 것을 \\n어떻게 막아야 할지 고민하는 것이 어려웠음. 리스트의 길이와 num의 나머지 연산을 통해 자리를 구함. .'"
            ],
            "application/vnd.google.colaboratory.intrinsic+json": {
              "type": "string"
            }
          },
          "metadata": {},
          "execution_count": 61
        }
      ],
      "source": [
        "\n",
        "\n",
        "N, K = map(int,input().split())# N:사람 수 K:제거할 사람 번호\n",
        "people = list((range(1,N+1)))#사람 리스트\n",
        "yosepuse = []#요세푸스 리스트\n",
        "\n",
        "num = 0\n",
        "\n",
        "while people:\n",
        "    num = (num + K -1) % len(people)\n",
        "    deleted = people.pop(num)  # 제거될 사람을 리스트에서 삭제\n",
        "    yosepuse.append(deleted)  # 요세푸스 순열 리스트에 추가\n",
        "\n",
        "print('<'+', '.join(map(str,yosepuse))+'>')\n",
        "\n",
        "\n"
      ]
    },
    {
      "cell_type": "code",
      "source": [
        "from collections import deque\n",
        "\n",
        "\n",
        "for i in range(int(input())):#테스트 케이스만큼 반복\n",
        "    N, M = map(int,input().split())# 문서의 개수(큐의 길이), 궁금한 문서의 인덱스\n",
        "    importance = list(map(int,input().split()))#모든 문서의 중요도\n",
        "    queue = deque([(idx, note) for idx, note in enumerate(importance)])#문서의 위치와 중요도를 큐로 생성\n",
        "    #enumertate 함수는 리스트의 요소의 인덱스를 추출함.\n",
        "    #idx는 인덱스 note는 문서의 중요도로 이차원 배열로서 큐에 기록됨\n",
        "    count = 0# 문서의 순서\n",
        "\n",
        "    while queue:# 큐가 빌 때까지 반복\n",
        "        current = queue.popleft()\n",
        "\n",
        "        if any(current[1] < high[1] for high in queue): # 현문서보다 중요도가 높은 문서가 있는지 탐색\n",
        "            queue.append(current)# 있다면 맨 뒤로 옮기기\n",
        "        else:\n",
        "            count += 1 #중요도가 제일 높거나 높은 것과 같다면 인쇄\n",
        "            if current[0] == M: #만약 문서의 인덱스가 궁금한 문서와 같다면 문서의 순서 기록\n",
        "                print(count)\n",
        "                break\n",
        "\n",
        "\n",
        "    \"\"\" 문서를 뽑았더래도 그 문서가 무엇인지 알 방법을 고민함\"\"\""
      ],
      "metadata": {
        "colab": {
          "base_uri": "https://localhost:8080/"
        },
        "id": "sOu5n1JemAwX",
        "outputId": "4f96c18a-b4fd-4b10-8cc0-98b9d48d7138"
      },
      "execution_count": 31,
      "outputs": [
        {
          "output_type": "stream",
          "name": "stdout",
          "text": [
            "3\n",
            "1 0\n",
            "5\n",
            "1\n",
            "4 2\n",
            "1 2 3 4\n",
            "2\n",
            "6 0\n",
            "1 1 9 1 1 1\n",
            "5\n"
          ]
        }
      ]
    },
    {
      "cell_type": "code",
      "source": [
        "import heapq\n",
        "\n",
        "# 각 카드 묶음의 크기를 입력받아 최소 힙에 추가\n",
        "Deck = []# 힙큐 생성\n",
        "for i in range(int(input())):#모든 덱 갯수만큼 반복\n",
        "    Deck.append(int(input()))#덱 리스트에 각 덱의 카드 갯수 입력\n",
        "\n",
        "total = 0\n",
        "# 카드 묶음이 하나 남을 때까지 반복\n",
        "while len(Deck) > 1:\n",
        "    # 가장 작은 두 묶음을 꺼내어 합침\n",
        "    hap = heapq.heappop(Deck) + heapq.heappop(Deck)#힙큐에서 최솟값 pop 후 반환\n",
        "    total += hap #total에 최솟값의 합 입력\n",
        "    # 합친 묶음을 다시 힙에 삽입\n",
        "    heapq.heappush(Deck, hap)\n",
        "\n",
        "# 최소 비교 횟수 출력\n",
        "print(total)\n"
      ],
      "metadata": {
        "colab": {
          "base_uri": "https://localhost:8080/"
        },
        "id": "qSfwAT2s3TqF",
        "outputId": "6889d5a9-b589-44b9-8638-5ad6d5e47f77"
      },
      "execution_count": 41,
      "outputs": [
        {
          "output_type": "stream",
          "name": "stdout",
          "text": [
            "3\n",
            "10\n",
            "20\n",
            "40\n",
            "100\n"
          ]
        }
      ]
    }
  ]
}