{
  "nbformat": 4,
  "nbformat_minor": 0,
  "metadata": {
    "colab": {
      "provenance": []
    },
    "kernelspec": {
      "name": "python3",
      "display_name": "Python 3"
    },
    "language_info": {
      "name": "python"
    }
  },
  "cells": [
    {
      "cell_type": "code",
      "source": [
        "#문제 1\n",
        "# 나머지 연산으로 홀짝 판단\n",
        "for i in range(int(input())):\n",
        "    num = int(input())\n",
        "    if num % 2 == 1:\n",
        "        print('odd')\n",
        "    else:\n",
        "        print('even')\n"
      ],
      "metadata": {
        "colab": {
          "base_uri": "https://localhost:8080/"
        },
        "id": "It6kYSPq8IfE",
        "outputId": "ca918d67-cac4-4d02-a12c-e90812dbc6c1"
      },
      "execution_count": 5,
      "outputs": [
        {
          "output_type": "stream",
          "name": "stdout",
          "text": [
            "2\n",
            "228\n",
            "even\n",
            "123\n",
            "odd\n"
          ]
        }
      ]
    },
    {
      "cell_type": "code",
      "source": [
        "#문제 2\n",
        "#Python is known for its simple syntax\n",
        "#등장 횟수만큼이 뭔소리\n",
        "#띄어쓰기 기준으로 리스트 받고 길이 출력\n",
        "letters = list(input().split())\n",
        "print(len(letters))\n"
      ],
      "metadata": {
        "colab": {
          "base_uri": "https://localhost:8080/"
        },
        "id": "3trcRmZQ9a3b",
        "outputId": "f842dfa9-cc5c-4b3e-e541-09ee2ece11ad"
      },
      "execution_count": null,
      "outputs": [
        {
          "output_type": "stream",
          "name": "stdout",
          "text": [
            "Python is known for its simple syntax\n",
            "7\n"
          ]
        }
      ]
    },
    {
      "cell_type": "code",
      "source": [
        "#문제 3\n",
        "N,M = map(int,input().split())\n",
        "S_letters = []#집합 S 문자열\n",
        "test = []# 검사할 문자열\n",
        "for i in range(N):\n",
        "    S_letters.append(input())\n",
        "for i in range(M):\n",
        "    test.append(input())\n",
        "count = 0 #같은 문자열 세기\n",
        "# 만약 집합S의 요소와 같은 문자열 발견시 count변수에 +1\n",
        "for word in S_letters:\n",
        "    for test_word in test:\n",
        "        if word == test_word:\n",
        "            count += 1\n",
        "\n",
        "print(count)"
      ],
      "metadata": {
        "colab": {
          "base_uri": "https://localhost:8080/"
        },
        "id": "XDuOZb53-JnV",
        "outputId": "8da97f12-033c-4336-a723-15fa184ea53d"
      },
      "execution_count": 6,
      "outputs": [
        {
          "output_type": "stream",
          "name": "stdout",
          "text": [
            "5 11\n",
            "baekjoononlinejudge\n",
            "startlink\n",
            "codeplus\n",
            "sundaycoding\n",
            "codingsh\n",
            "baekjoon\n",
            "codeplus\n",
            "codeminus\n",
            "startlink\n",
            "starlink\n",
            "sundaycoding\n",
            "codingsh\n",
            "codinghs\n",
            "sondaycoding\n",
            "startrink\n",
            "icerink\n",
            "4\n"
          ]
        }
      ]
    },
    {
      "cell_type": "code",
      "source": [
        "#문제 4\n",
        "T = int(input())#괄호 문자열 갯수\n",
        "test = [input() for i in range(T)]#테스트 리스트에 문자열 append\n",
        "\n",
        "for test_case in test:\n",
        "     left_count = 0#괄호 열기 카운트\n",
        "     right_count = 0#괄호 닫기 카운드\n",
        "     tmp_list = list(test_case)#테스트 케이스를 리스트로 변환\n",
        "     for gwalho in tmp_list:\n",
        "        if gwalho == '(':\n",
        "            left_count += 1\n",
        "        else:\n",
        "            right_count += 1\n",
        "     if left_count == right_count:# 괄호 열기와 닫기의 갯수가 맞다면 vps라고 판단\n",
        "        print('YES')\n",
        "     else:\n",
        "        print('No')\n"
      ],
      "metadata": {
        "id": "k_LVAsRy_eEi",
        "colab": {
          "base_uri": "https://localhost:8080/"
        },
        "outputId": "6118b635-bcb0-4554-9e85-8f5925120baf"
      },
      "execution_count": 7,
      "outputs": [
        {
          "output_type": "stream",
          "name": "stdout",
          "text": [
            "5\n",
            "(((()())()\n",
            "(()())((()))\n",
            "((()()(()))(((())))()\n",
            "()()()()(()()())()\n",
            "(()((())()(\n",
            "No\n",
            "YES\n",
            "No\n",
            "YES\n",
            "No\n"
          ]
        }
      ]
    },
    {
      "cell_type": "code",
      "source": [
        "#문제 5\n",
        "word = list(input())\n",
        "reversed = word[::-1]\n",
        "\n",
        "count = 0\n",
        "for i in range(len(word)):\n",
        "    if word[i] == reversed[i]:\n",
        "        count +=1\n",
        "        if count == len(word):\n",
        "            print(\"YES\")\n",
        "        continue\n",
        "    else:\n",
        "        print(\"NO\")\n",
        "        break\n"
      ],
      "metadata": {
        "colab": {
          "base_uri": "https://localhost:8080/"
        },
        "id": "hMnra63dCHqB",
        "outputId": "7c22b3ec-7e0e-4e16-ea1f-c1ad215a3f5f"
      },
      "execution_count": 9,
      "outputs": [
        {
          "output_type": "stream",
          "name": "stdout",
          "text": [
            "apples\n",
            "NO\n"
          ]
        }
      ]
    },
    {
      "cell_type": "code",
      "source": [
        "#문제 6\n",
        "M = list(map(int, input().split()))\n",
        "height = 0\n",
        "day = 0\n",
        "while True :\n",
        "    day += 1\n",
        "    height += M[0]\n",
        "    if height >= M[2] :\n",
        "        print(day)\n",
        "        break\n",
        "    else :\n",
        "        height -= M[1]\n"
      ],
      "metadata": {
        "colab": {
          "base_uri": "https://localhost:8080/"
        },
        "id": "pWUfCB1FmH6f",
        "outputId": "6a1dce11-2534-42b9-db75-53729f61a525"
      },
      "execution_count": 10,
      "outputs": [
        {
          "output_type": "stream",
          "name": "stdout",
          "text": [
            "2 1 5\n",
            "4\n"
          ]
        }
      ]
    },
    {
      "cell_type": "code",
      "source": [
        "#문제 7\n",
        "from collections import deque\n",
        "\n",
        "queue = deque([])\n",
        "\n",
        "foward = rear = -1\n",
        "\n",
        "\n",
        "def push(X):\n",
        "    global size, foward, rear\n",
        "    rear += 1\n",
        "    queue.append(X)\n",
        "\n",
        "def pop():\n",
        "    global size, foward, rear\n",
        "    rear -= 1\n",
        "    if queue == deque([]) :\n",
        "        print('-1')\n",
        "    else :\n",
        "        print(queue[0])\n",
        "        queue.popleft()\n",
        "\n",
        "\n",
        "def size():\n",
        "    print(len(queue))\n",
        "\n",
        "def empty():\n",
        "    if queue == deque([]):\n",
        "        print('1')\n",
        "    else :\n",
        "        print('0')\n",
        "\n",
        "def front():\n",
        "    global size, foward, rear\n",
        "    print(queue[0])\n",
        "    if queue[foward] == None :\n",
        "        print('-1')\n",
        "\n",
        "def back():\n",
        "    global size, foward, rear\n",
        "    print(queue[rear])\n",
        "    if queue[foward] == None :\n",
        "        print('-1')\n",
        "\n",
        "for i in range(int(input())) :\n",
        "    select = list(input().split())\n",
        "\n",
        "    if select[0] == 'push' :\n",
        "        push(int(select[1]))\n",
        "\n",
        "    elif select[0] == 'pop' :\n",
        "        pop()\n",
        "\n",
        "    elif select[0] == 'size' :\n",
        "        size()\n",
        "\n",
        "    elif select[0] == 'empty' :\n",
        "        empty()\n",
        "\n",
        "    elif select[0] == 'front' :\n",
        "        front()\n",
        "\n",
        "    elif select[0] == 'back' :\n",
        "        back()"
      ],
      "metadata": {
        "colab": {
          "base_uri": "https://localhost:8080/"
        },
        "id": "fLQkUXBtmLlM",
        "outputId": "e0ceb1d3-6980-4a88-bca0-194bfd816e1c"
      },
      "execution_count": 16,
      "outputs": [
        {
          "output_type": "stream",
          "name": "stdout",
          "text": [
            "15\n",
            "push 1\n",
            "push 2\n",
            "front\n",
            "1\n",
            "back\n",
            "2\n",
            "size\n",
            "2\n",
            "empty\n",
            "0\n",
            "pop\n",
            "1\n",
            "pop\n",
            "2\n",
            "pop\n",
            "-1\n",
            "size\n",
            "0\n",
            "empty\n",
            "1\n",
            "pop\n",
            "-1\n",
            "push 3\n",
            "empty\n",
            "0\n",
            "front\n",
            "3\n"
          ]
        }
      ]
    },
    {
      "cell_type": "code",
      "source": [
        "#문제 8\n",
        "from collections import deque\n",
        "\n",
        "for i in range(int(input())):\n",
        "    file_num, M = map(int,input().split())#파일의 갯수와 궁금한 파일의 인덱스\n",
        "    files = list(map(int,input().split()))\n",
        "    files = deque(list(enumerate(files)))#각 파일의 인덱스와 중요도 저장(enumerate)\n",
        "    count = 0 #파일 뽑는 순서\n",
        "    while files:#파일리스트가 빌 때까지 반복\n",
        "        current = files.popleft()#파일 선정\n",
        "        if any(current[1] < docu[1] for docu in files):# 검사용 파일의 중요도보다 현재 파일의 중요도가 낮으면(any)\n",
        "            files.append(current)# 왼쪽에서 맨끝 순서로 옮김\n",
        "        else: #만약 검사용 파일의 중요도보다 현재 파일의 중요도가 같거나 높다면\n",
        "            count += 1 #뽑는 순서 +1\n",
        "            if current[0] == M: #만약 뽑으려는 문서 였다면 순서 출력 후 break\n",
        "                print(count)\n",
        "                break\n",
        "\n",
        "\n",
        "#가장 중요도가 높은 파일 제거 시 다음 중요도 선정\n",
        "#any로 모든 문서를 비교함으로써 해결"
      ],
      "metadata": {
        "colab": {
          "base_uri": "https://localhost:8080/"
        },
        "id": "KNQM6gEaHiHz",
        "outputId": "4f43ef60-d1a3-44c4-a4f7-095217789f0c"
      },
      "execution_count": 2,
      "outputs": [
        {
          "output_type": "stream",
          "name": "stdout",
          "text": [
            "3\n",
            "1 0\n",
            "5\n",
            "1\n",
            "4 2\n",
            "1 2 3 4\n",
            "2\n",
            "6 0\n",
            "1 1 9 1 1 1\n",
            "5\n"
          ]
        }
      ]
    },
    {
      "cell_type": "code",
      "source": [
        "#문제 9\n",
        "from collections import deque\n",
        "\n",
        "queue = deque([])\n",
        "\n",
        "\n",
        "\n",
        "def push(X):\n",
        "    queue.append(X)\n",
        "\n",
        "def pop():\n",
        "    if queue == deque([]) :\n",
        "        print('-1')\n",
        "    else :\n",
        "        print(queue[0])\n",
        "        queue.pop()\n",
        "\n",
        "\n",
        "def size():\n",
        "    print(len(queue))\n",
        "\n",
        "def empty():\n",
        "    if queue == deque([]):\n",
        "        print('1')\n",
        "    else :\n",
        "        print('0')\n",
        "\n",
        "def top():\n",
        "    if queue == deque([]):\n",
        "        print('-1')\n",
        "    else :\n",
        "        print(queue[len(queue)-1])\n",
        "\n",
        "\n",
        "\n",
        "for i in range(int(input())) :\n",
        "    select = list(input().split())\n",
        "\n",
        "    if select[0] == 'push' :\n",
        "        push(int(select[1]))\n",
        "\n",
        "    elif select[0] == 'pop' :\n",
        "        pop()\n",
        "\n",
        "    elif select[0] == 'size' :\n",
        "        size()\n",
        "\n",
        "    elif select[0] == 'empty' :\n",
        "        empty()\n",
        "\n",
        "    elif select[0] == 'top' :\n",
        "        top()"
      ],
      "metadata": {
        "colab": {
          "base_uri": "https://localhost:8080/"
        },
        "id": "BkdiaFGrmRNa",
        "outputId": "fc15eef6-e0c6-42c7-e9bc-1338242c6092"
      },
      "execution_count": 12,
      "outputs": [
        {
          "output_type": "stream",
          "name": "stdout",
          "text": [
            "7\n",
            "pop\n",
            "-1\n",
            "top\n",
            "-1\n",
            "push 123\n",
            "top\n",
            "123\n",
            "pop\n",
            "123\n",
            "top\n",
            "-1\n",
            "pop\n",
            "-1\n"
          ]
        }
      ]
    },
    {
      "cell_type": "code",
      "source": [
        "#문제 10번\n",
        "from collections import deque\n",
        "trans_list = deque(list(input().split())) #스택에 수식 넣어줄 리스트 생성\n",
        "stack = []#스택\n",
        "\n",
        "while True: #정답만 스택에 남을 때까지\n",
        "    tmp = trans_list.popleft()\n",
        "    if tmp.isdigit() == True: #tmp가 숫자로 형변환 가능한 문자열이라면\n",
        "        stack.append(int(tmp))\n",
        "    else: #tmp가 연산자라면 숫자 2개 뽑아서 연산\n",
        "        number1 = stack.pop()\n",
        "        number2 = stack.pop()\n",
        "        if tmp == '+':\n",
        "            stack.append(int(number1) + int(number2))\n",
        "        elif tmp == '-':\n",
        "            stack.append(int(number1) - int(number2))\n",
        "        elif tmp == '*':\n",
        "            stack.append(int(number1) * int(number2))\n",
        "        elif tmp == '/':\n",
        "            stack.append(int(number1) // int(number2))\n",
        "    if len(trans_list) == 0:\n",
        "        print(abs(*stack))#*:기호 없애기, abs: 절댓값 출력\n",
        "        break\n"
      ],
      "metadata": {
        "id": "euoeX938_j4x",
        "colab": {
          "base_uri": "https://localhost:8080/"
        },
        "outputId": "1eb9dd9f-c274-45dd-d147-7fbd3884327a"
      },
      "execution_count": 14,
      "outputs": [
        {
          "output_type": "stream",
          "name": "stdout",
          "text": [
            "2 3 * 5 4 * + 9 -\n",
            "17\n"
          ]
        }
      ]
    }
  ]
}