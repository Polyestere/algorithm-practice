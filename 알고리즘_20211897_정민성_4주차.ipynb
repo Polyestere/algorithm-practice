{
  "nbformat": 4,
  "nbformat_minor": 0,
  "metadata": {
    "colab": {
      "provenance": []
    },
    "kernelspec": {
      "name": "python3",
      "display_name": "Python 3"
    },
    "language_info": {
      "name": "python"
    }
  },
  "cells": [
    {
      "cell_type": "code",
      "execution_count": 1,
      "metadata": {
        "id": "skDizU-wqQHr"
      },
      "outputs": [],
      "source": [
        "#선택 정렬\n",
        "def selection_sort(main_list):\n",
        "  sub_list = [] #정렬된 값 저장할 리스트\n",
        "  while True:\n",
        "    if not main_list: #정렬이 끝나서 main_list가 비면\n",
        "        break\n",
        "    max_idx = main_list.index(max(main_list))# 제일 큰 값의 인덱스\n",
        "    sub_list.append(max(main_list))\n",
        "    del main_list[max_idx]# 제일 큰 값 리스트에서 제거\n",
        "  main_list = sub_list\n",
        "  return main_list # 정렬된 리스트 반환\n",
        "#for loop를 통해 len과 insert를 이용해서 만들수도 있을 수도\n",
        "\n",
        "#버블 정렬\n",
        "def bubble_sort(main_list):\n",
        "  for i in range(len(main_list)): #정렬할 숫자\n",
        "    for j in range(len(main_list)):\n",
        "      if main_list[i] > main_list[j]: #두개를 비교해서 정렬할 숫자가 작다면 두개의 위치 변경\n",
        "          main_list[i] , main_list[j] = main_list[j], main_list[i]\n",
        "  return main_list\n",
        "\n",
        "#삽입 정렬\n",
        "def insertion_sort(main_list):\n",
        "    # 배열의 길이만큼 반복\n",
        "    for i in range(1, len(main_list)):\n",
        "        key = main_list[i]  # 현재 값을 key로 저장\n",
        "        j = i - 1\n",
        "        # key보다 큰 값을 찾을 때까지 반복\n",
        "        while j >= 0 and main_list[j] < key:\n",
        "            main_list[j + 1] = main_list[j]  # 한 칸씩 뒤로 밀기\n",
        "            j -= 1\n",
        "        main_list[j + 1] = key  # 알맞은 위치에 key 삽입\n",
        "\n",
        "    return main_list\n"
      ]
    },
    {
      "cell_type": "code",
      "source": [
        "#문제 2\n",
        "N, k = map(int,input().split())\n",
        "numbers = list(map(int,input().split()))\n",
        "numbers = selection_sort(numbers)\n",
        "print(numbers[k-1])"
      ],
      "metadata": {
        "colab": {
          "base_uri": "https://localhost:8080/"
        },
        "id": "9KQAt18xB6kt",
        "outputId": "3ee210e2-639e-47ee-8aa3-1a5a156c92e2"
      },
      "execution_count": null,
      "outputs": [
        {
          "output_type": "stream",
          "name": "stdout",
          "text": [
            "5 2\n",
            "100 76 85 93 98\n",
            "98\n"
          ]
        }
      ]
    },
    {
      "cell_type": "code",
      "source": [
        "#문제 3번\n",
        "n = int(input())\n",
        "x = []\n",
        "y = []\n",
        "vector = []\n",
        "for _ in range(n) :\n",
        "    ary = list(map(int, input().split(' '))) # ary에 들어오는 값을 저장\n",
        "    x.append(ary[0])\n",
        "    y.append(ary[1])\n",
        "    vector.append([ary[1], ary[0]]) # vector에 y, x 순서로 저장\n",
        "\n",
        "insertion_sort(vector) # 삽입 정렬\n",
        "\n",
        "for i in range(n-1, -1, -1) :\n",
        "    print(vector[i][1], vector[i][0]) # x, y 순서로 출력\n"
      ],
      "metadata": {
        "id": "6CKJ4-sGCjgE",
        "colab": {
          "base_uri": "https://localhost:8080/"
        },
        "outputId": "ddb7bbde-621d-4da2-ee7c-a4f74aa12574"
      },
      "execution_count": 2,
      "outputs": [
        {
          "output_type": "stream",
          "name": "stdout",
          "text": [
            "5\n",
            "0 4\n",
            "1 2\n",
            "1 -1\n",
            "2 2\n",
            "3 3\n",
            "1 -1\n",
            "1 2\n",
            "2 2\n",
            "3 3\n",
            "0 4\n"
          ]
        }
      ]
    },
    {
      "cell_type": "code",
      "source": [
        "#문제 4\n",
        "words = []#단어 리스트  ex. but,i,wont,hesitate,no,more,it,cannot\n",
        "word_length = []#단어 길이 리스트 ex. 3,1,4,7,2,4,2,6\n",
        "sorted_length = []#길이 순 정렬 리스트\n",
        "\n",
        "for i in range(int(input())):\n",
        "  word = input()\n",
        "  words.append(word)\n",
        "  #단어 길이로 비교하고 길이가 맞으면 그 순서대로 정렬?\n",
        "words = set(words) # 중복 값 처리\n",
        "words = list(words)\n",
        "\n",
        "for word in words:#단어 길이를 리스트에 추가\n",
        "    word_length.append(len(word))\n",
        "\n",
        "word_length = selection_sort(word_length)# 단어 길이로 정렬\n",
        "#ex.7,6,4,4,3,2,2,1\n",
        "words = selection_sort(words)\n",
        "for j in range(len(word_length)):#정렬된 길이와 맞는 단어를 찾으면 리스트에 append\n",
        "  for word in words:\n",
        "    if len(word) == word_length[j]:\n",
        "      sorted_length.append(word)\n",
        "      del words[words.index(word)]#뽑은 단어는 지우기\n",
        "      #ex. hesitate, cannot, more, wont, but, no, it, i\n",
        "\n",
        "for word in reversed(sorted_length):\n",
        "    print(word)"
      ],
      "metadata": {
        "colab": {
          "base_uri": "https://localhost:8080/"
        },
        "id": "MwLFMIouEVf9",
        "outputId": "f5e799e2-dc9b-4d6d-a616-7a82832a54fc"
      },
      "execution_count": null,
      "outputs": [
        {
          "output_type": "stream",
          "name": "stdout",
          "text": [
            "10\n",
            "but\n",
            "i\n",
            "wont\n",
            "hesitate\n",
            "no\n",
            "more\n",
            "no\n",
            "more\n",
            "it\n",
            "cannot\n",
            "i\n",
            "it\n",
            "no\n",
            "but\n",
            "more\n",
            "wont\n",
            "cannot\n",
            "hesitate\n"
          ]
        }
      ]
    },
    {
      "cell_type": "code",
      "source": [
        "#문제 5\n",
        "N, L = map(int,input().split())\n",
        "berry = list(map(int,input().split()))\n",
        "berry = selection_sort(berry) #10 11 13\n",
        "berry = list(reversed(berry))\n",
        "idx = 0\n",
        "while True:\n",
        "  if (L) >= berry[idx]:# 뱀새의 길이보다 열매의 높이가 작거나 같을떄\n",
        "    L+=1                  # 뱀새의 길이와 인덱스 +1\n",
        "    idx+=1\n",
        "  elif (L) < berry[idx]: #뱀새의 길이보다 열매가 높을 때 break\n",
        "    break\n",
        "print(L)"
      ],
      "metadata": {
        "colab": {
          "base_uri": "https://localhost:8080/"
        },
        "id": "B1JD_NtzTWWl",
        "outputId": "ad628f4e-05d1-49fa-c7c3-1f49e3b9af73"
      },
      "execution_count": null,
      "outputs": [
        {
          "output_type": "stream",
          "name": "stdout",
          "text": [
            "3 10\n",
            "10 13 11\n",
            "12\n"
          ]
        }
      ]
    },
    {
      "cell_type": "code",
      "source": [
        "#문제 6\n",
        "word = input()\n",
        "sliced_word = []\n",
        "for i in range(1,len(word)):\n",
        "  sliced_word.append(word[i:len(word)])\n",
        "\n",
        "sliced_word = selection_sort(sliced_word)\n",
        "for word in list(reversed(sliced_word)):\n",
        "    print(word)"
      ],
      "metadata": {
        "colab": {
          "base_uri": "https://localhost:8080/"
        },
        "id": "M2mGlFaeW5yc",
        "outputId": "435edd37-29e4-4c1f-dd2d-6a6fdb0a14d2"
      },
      "execution_count": null,
      "outputs": [
        {
          "output_type": "stream",
          "name": "stdout",
          "text": [
            "samsung\n",
            "amsung\n",
            "g\n",
            "msung\n",
            "ng\n",
            "sung\n",
            "ung\n"
          ]
        }
      ]
    },
    {
      "cell_type": "code",
      "source": [
        "#문제 7번\n",
        "N = int(input())\n",
        "A = []\n",
        "B = []\n",
        "for i in range(N) :\n",
        "    A.append(int(input()))\n",
        "    #A = [1,8,5,7,9,10]\n",
        "M = int(input())\n",
        "for i in range(M) :\n",
        "    B.append(int(input()))\n",
        "    #B = [4,6,7]\n",
        "c = 0       # 아름다운 수열과 동일한 수열의 개수\n",
        "ind = []    # 인덱스 값 리스트\n",
        "\n",
        "\n",
        "for i in range(N) :\n",
        "    C =  A[i:i+M]       #수열의 길이만큼 A를 연속 부분 수열로 변환\n",
        "    for o in range(N) :\n",
        "        D = [j+o for j in B]\n",
        "        E = [j-o for j in B]\n",
        "        if set(C) == set(D) or set(C) == set(E)  :\n",
        "            ind.append(A.index(C[0])+1)\n",
        "            c += 1\n",
        "\n",
        "print(c)     #아름다운 수열을 만드는 인덱스 시작 위치 출력\n",
        "sortedInd = list(reversed(insertion_sort(ind)))\n",
        "for i in range(len(ind)):\n",
        "    print(sortedInd[i])\n"
      ],
      "metadata": {
        "colab": {
          "base_uri": "https://localhost:8080/"
        },
        "id": "qAiosq3UQ4_y",
        "outputId": "3c32a106-c652-4910-8c32-479ef1519e6f"
      },
      "execution_count": 7,
      "outputs": [
        {
          "output_type": "stream",
          "name": "stdout",
          "text": [
            "6\n",
            "1\n",
            "8\n",
            "5\n",
            "7\n",
            "9\n",
            "10\n",
            "3\n",
            "4\n",
            "6\n",
            "7\n",
            "2\n",
            "2\n",
            "4\n"
          ]
        }
      ]
    }
  ]
}