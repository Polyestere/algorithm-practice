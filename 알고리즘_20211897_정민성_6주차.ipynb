{
  "nbformat": 4,
  "nbformat_minor": 0,
  "metadata": {
    "colab": {
      "provenance": []
    },
    "kernelspec": {
      "name": "python3",
      "display_name": "Python 3"
    },
    "language_info": {
      "name": "python"
    }
  },
  "cells": [
    {
      "cell_type": "code",
      "source": [
        "# #문제 1 MAX-HEAPIFY 알고리즘 구현, HEAP정렬 구현\n",
        "def max_heapify(A, i,heap_size):  #노드 i를 루트로 하는 서브트리를 heapify한다.\n",
        "\n",
        "    largest = i\n",
        "    if i*2+1 < heap_size and i*2+1 < len(A) and A[i*2+1] > A[largest]:\n",
        "        largest = i*2+1\n",
        "    if i*2+2 < heap_size and i*2+2 < len(A) and A[i*2+2] > A[largest]:\n",
        "        largest = i*2+2\n",
        "\n",
        "    if largest != i: # 루트가 가장 크지 않으면\n",
        "        A[i], A[largest] = A[largest], A[i]\n",
        "        max_heapify(A, largest,heap_size)\n",
        "\n",
        "def heapsort(A) :\n",
        "    heap_size = len(A)\n",
        "    for i in range(heap_size//2-1, -1, -1):\n",
        "        max_heapify(A,i,heap_size)\n",
        "    for i in range(heap_size -1, 0, -1) :\n",
        "        heap_size = heap_size-1\n",
        "        A[0], A[i]= A[i], A[0]\n",
        "        max_heapify(A,0,heap_size)\n",
        "\n",
        "\n",
        "\n"
      ],
      "metadata": {
        "id": "xGDxgoqyDztl"
      },
      "execution_count": 60,
      "outputs": []
    },
    {
      "cell_type": "code",
      "source": [
        "#문제 1-2\n",
        "A = [4, 16, 15, 8, 7, 13, 14, 2, 5]\n",
        "\n",
        "max_heapify(A, 0,len(A))\n",
        "print(A)\n",
        "heapsort(A)\n",
        "print(A)"
      ],
      "metadata": {
        "colab": {
          "base_uri": "https://localhost:8080/"
        },
        "id": "XjxMIMTkVWRk",
        "outputId": "87239f0f-f85a-42f1-8c53-85731f7b8a7d"
      },
      "execution_count": 59,
      "outputs": [
        {
          "output_type": "stream",
          "name": "stdout",
          "text": [
            "[16, 8, 15, 5, 7, 13, 14, 2, 4]\n",
            "[2, 4, 5, 7, 8, 13, 14, 15, 16]\n"
          ]
        }
      ]
    },
    {
      "cell_type": "code",
      "source": [
        "#문제 2-1\n",
        "N = int(input())\n",
        "A = []\n",
        "for i in range(N) :\n",
        "    a = int(input())\n",
        "    if a == 0 :\n",
        "        if A == []:\n",
        "            print('0')\n",
        "        else :\n",
        "            heapsort(A)\n",
        "            print(A.pop())\n",
        "    else :\n",
        "        A.append(a)"
      ],
      "metadata": {
        "colab": {
          "base_uri": "https://localhost:8080/"
        },
        "id": "xXjWvj1ZliGe",
        "outputId": "9e1d31bb-14a1-4630-dffc-ca9ba49eba6d"
      },
      "execution_count": 62,
      "outputs": [
        {
          "output_type": "stream",
          "name": "stdout",
          "text": [
            "13\n",
            "0\n",
            "0\n",
            "1\n",
            "2\n",
            "0\n",
            "2\n",
            "0\n",
            "1\n",
            "3\n",
            "2\n",
            "1\n",
            "0\n",
            "3\n",
            "0\n",
            "2\n",
            "0\n",
            "1\n",
            "0\n",
            "0\n",
            "0\n",
            "0\n"
          ]
        }
      ]
    },
    {
      "cell_type": "code",
      "source": [
        "#문제 2-2\n",
        "import heapq\n",
        "N = int(input())\n",
        "A = []\n",
        "for i in range(N) :\n",
        "    a = int(input())\n",
        "    if a == 0 :\n",
        "        if A == [] :\n",
        "            print('0')\n",
        "        else :\n",
        "            print(-heapq.heappop(A))\n",
        "    else :\n",
        "        heapq.heappush(A, -a)"
      ],
      "metadata": {
        "colab": {
          "base_uri": "https://localhost:8080/"
        },
        "id": "wpgJHxuClxzn",
        "outputId": "74850924-ade4-42d0-81c7-4c8d4bb100cd"
      },
      "execution_count": 63,
      "outputs": [
        {
          "output_type": "stream",
          "name": "stdout",
          "text": [
            "13\n",
            "0\n",
            "0\n",
            "1\n",
            "2\n",
            "0\n",
            "2\n",
            "0\n",
            "1\n",
            "3\n",
            "2\n",
            "1\n",
            "0\n",
            "3\n",
            "0\n",
            "2\n",
            "0\n",
            "1\n",
            "0\n",
            "0\n",
            "0\n",
            "0\n"
          ]
        }
      ]
    },
    {
      "cell_type": "code",
      "source": [
        "#문제 3번\n",
        "\n",
        "N = int(input())\n",
        "\n",
        "scores = []\n",
        "\n",
        "for i in range(N):\n",
        "    scores.append(list(input().split()))# 나중에 isdigit으로 숫자인지 확인\n",
        "for i in range(len(scores)):\n",
        "    for j in range(len(scores[i])):\n",
        "        if scores[i][j].isdigit():\n",
        "            scores[i][j] = int(scores[i][j])\n",
        "\n",
        "#우선 순위로 정렬, -는 내림차순\n",
        "scores_sorted = sorted(scores, key=lambda x: (-x[1],x[2],-x[3],x[0]))\n",
        "\n",
        "for i in range(N):\n",
        "    print(*scores_sorted[i])\n",
        "\n",
        "#김 4 5 6\n",
        "#이 4 6 4\n",
        "#박 4 6 3\n",
        "#두 4 6 3\n",
        "#정 5 7 8"
      ],
      "metadata": {
        "colab": {
          "base_uri": "https://localhost:8080/"
        },
        "id": "f--kgOd3NYhS",
        "outputId": "66e706ad-c1bb-443f-de22-a499deed3463"
      },
      "execution_count": 43,
      "outputs": [
        {
          "output_type": "stream",
          "name": "stdout",
          "text": [
            "5\n",
            "김 4 5 6\n",
            "이 4 6 4\n",
            "박 4 6 3\n",
            "두 4 6 3\n",
            "정 5 7 8\n",
            "정 5 7 8\n",
            "김 4 5 6\n",
            "이 4 6 4\n",
            "두 4 6 3\n",
            "박 4 6 3\n"
          ]
        }
      ]
    },
    {
      "cell_type": "code",
      "source": [
        "#문제 4\n",
        "#네 점이 주어졌을 때, 네 점을 이용해 정사각형을 만들 수 있는지를 구하는 프로그램을\n",
        "#작성하세요\n",
        "#첫 째 줄에 테스트 케이스의 개수 T가 주어지고, 각 테스트 케이스는 4 줄로 이루어져\n",
        "#있으며, 점의 좌표가 한 줄에 하나씩 주어집니다.\n",
        "#각 테스트 케이스마다 주어진 네 점을 이용해서 \"정사각형\"을 만들 수 있으면 1을,\n",
        "#없으면 0을 출력하세요\n",
        "T = int(input())\n",
        "square = []\n",
        "tmp = 0\n",
        "\n",
        "def distance(n1,n2):\n",
        "    return abs((n2[0]-n1[0])**2 + abs(n2[1]-n1[1])**2)\n",
        "\n",
        "for i in range(T):\n",
        "    square= []\n",
        "    for i in range(4):\n",
        "        a, b = map(int, input().split())\n",
        "        square.append([a, b])\n",
        "    square = sorted(square)\n",
        "\n",
        "    ## 변의 길이가 0인 경우 제외\n",
        "    for dot in square:\n",
        "        if dot==[0,0]:\n",
        "            tmp+=1\n",
        "    if tmp==4:\n",
        "        print(0)\n",
        "        tmp=0\n",
        "    # 두 변의 길이가 같고, 두 대각선의 길이가 같으면\n",
        "    elif distance(square[0],square[1])==distance(square[0],square[2])==distance(square[1],square[3]) and distance(square[1],square[2])==distance(square[0],square[3]):\n",
        "        print(1)\n",
        "    else:\n",
        "        print(0)"
      ],
      "metadata": {
        "colab": {
          "base_uri": "https://localhost:8080/"
        },
        "id": "q-rgFauwejCJ",
        "outputId": "717bbcb9-88f5-4a9a-e07b-f62bb75c0f8d"
      },
      "execution_count": 66,
      "outputs": [
        {
          "output_type": "stream",
          "name": "stdout",
          "text": [
            "2\n",
            "1 1\n",
            "1 2\n",
            "2 1\n",
            "2 2\n",
            "1\n",
            "2 2\n",
            "3 3\n",
            "4 4\n",
            "5 5\n",
            "0\n"
          ]
        }
      ]
    },
    {
      "cell_type": "code",
      "source": [
        "#문제 5\n",
        "#numlist=[1,2,3,4,5,6]\n",
        "#n = 4\n",
        "numlist=[10000,20,36,47,40,6,10,7000]\n",
        "n=30\n",
        "def solution(numlist, n):\n",
        "    answer = []\n",
        "\n",
        "    numlist.sort()\n",
        "\n",
        "    for i in range(len(numlist)):\n",
        "        for j in range(len(numlist)):\n",
        "            if abs(n-numlist[i]) <= abs(n-numlist[j]):\n",
        "                tmp = numlist[j]\n",
        "                numlist[j] = numlist[i]\n",
        "                numlist[i] = tmp\n",
        "    return numlist\n",
        "solution(numlist, n)"
      ],
      "metadata": {
        "colab": {
          "base_uri": "https://localhost:8080/"
        },
        "id": "oFcXA4M1eXsh",
        "outputId": "79d69c8c-3812-4b47-a40e-c7c10a8a5d58"
      },
      "execution_count": 67,
      "outputs": [
        {
          "output_type": "execute_result",
          "data": {
            "text/plain": [
              "[36, 40, 20, 47, 10, 6, 7000, 10000]"
            ]
          },
          "metadata": {},
          "execution_count": 67
        }
      ]
    },
    {
      "cell_type": "code",
      "source": [
        "#문제 6번\n",
        "N = int(input())#영화 개수\n",
        "movies = []\n",
        "for i in range(N):\n",
        "    movies.append(list(map(int,input().split())))\n",
        "\n",
        "time = sorted(movies, key=lambda x: (x[0],x[1]))\n",
        "count = N # 최대 상영 영화 개수\n",
        "for i in range(N-2): #시작, 끝 시간 겹치면 x, 끝 시간이 다음영화 시작시간을 넘으면 x\n",
        "    if time[i][0] == time[i+1][0]:\n",
        "        count -= 1\n",
        "    elif time[i][1] == time[i+1][1]:\n",
        "        count -= 1\n",
        "    elif time[i][1] > time[i+1][0]:\n",
        "        count -= 1\n",
        "\n",
        "\n",
        "print(count)"
      ],
      "metadata": {
        "colab": {
          "base_uri": "https://localhost:8080/"
        },
        "id": "rsyFw8R1YR4z",
        "outputId": "da4fa9df-5a5d-4274-d36d-8ace44d23281"
      },
      "execution_count": 69,
      "outputs": [
        {
          "output_type": "stream",
          "name": "stdout",
          "text": [
            "4\n",
            "0 10\n",
            "3 4\n",
            "2 3\n",
            "1 2\n",
            "3\n"
          ]
        }
      ]
    }
  ]
}